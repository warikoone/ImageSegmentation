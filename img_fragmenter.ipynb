{
 "cells": [
  {
   "cell_type": "code",
   "execution_count": 4,
   "id": "2b830243-d9a9-4838-ba4b-5d11b9fd70b0",
   "metadata": {},
   "outputs": [],
   "source": [
    "from PIL import Image\n",
    "from patchify import patchify, unpatchify\n",
    "import numpy as np\n",
    "from numpy import asarray"
   ]
  },
  {
   "cell_type": "code",
   "execution_count": 5,
   "id": "aded32a1-91d5-4428-9644-3bdd1cccef57",
   "metadata": {},
   "outputs": [],
   "source": [
    "img_str = '/Users/nehawarikoo/Documents/atom-image-m-2-1024x1024-1.jpeg'"
   ]
  },
  {
   "cell_type": "code",
   "execution_count": 29,
   "id": "6cc44e00-1aa5-4456-b692-36f7b6d2b327",
   "metadata": {},
   "outputs": [
    {
     "name": "stdout",
     "output_type": "stream",
     "text": [
      "<class 'PIL.JpegImagePlugin.JpegImageFile'>\n",
      "(1024, 1024, 3)\n",
      "(1024, 1024, 1, 1, 1, 3)\n",
      "[[[249 147   3]]]\n"
     ]
    }
   ],
   "source": [
    "img = Image.open(img_str)\n",
    "print(type(img))\n",
    "numpydata = asarray(img)\n",
    "print(numpydata.shape)\n",
    "patches = patchify(numpydata, (1,1,3), step=1)\n",
    "print(patches.shape)\n",
    "print(patches[500][500][0])"
   ]
  },
  {
   "cell_type": "code",
   "execution_count": 21,
   "id": "a128574f-1e0a-4665-b7ac-d4156d423fa1",
   "metadata": {},
   "outputs": [],
   "source": [
    "#Image.fromarray(patches[1000][500][0]).show()\n",
    "f = '/Users/nehawarikoo/Downloads/Extractor/'\n",
    "for i in range(0,len(patches)):\n",
    "    for j in range(0, patches[i].shape[0]):\n",
    "        Image.fromarray(patches[i][j][0]).save(f+str(i)+str(j)+'.jpg')"
   ]
  },
  {
   "cell_type": "code",
   "execution_count": 25,
   "id": "58c79b58-d3db-4754-8493-309b9156d16a",
   "metadata": {},
   "outputs": [
    {
     "name": "stdout",
     "output_type": "stream",
     "text": [
      "[[[[ 1  2]\n",
      "   [ 5  6]]\n",
      "\n",
      "  [[ 2  3]\n",
      "   [ 6  7]]\n",
      "\n",
      "  [[ 3  4]\n",
      "   [ 7  8]]]\n",
      "\n",
      "\n",
      " [[[ 5  6]\n",
      "   [ 9 10]]\n",
      "\n",
      "  [[ 6  7]\n",
      "   [10 11]]\n",
      "\n",
      "  [[ 7  8]\n",
      "   [11 12]]]]\n",
      "(2, 3, 2, 2)\n"
     ]
    }
   ],
   "source": [
    "image = np.array([[1,2,3,4], [5,6,7,8], [9,10,11,12]])\n",
    "patches = patchify(image, (2,2), step=1)\n",
    "print(patches)\n",
    "print(patches.shape)"
   ]
  }
 ],
 "metadata": {
  "kernelspec": {
   "display_name": "Python 3 (ipykernel)",
   "language": "python",
   "name": "python3"
  },
  "language_info": {
   "codemirror_mode": {
    "name": "ipython",
    "version": 3
   },
   "file_extension": ".py",
   "mimetype": "text/x-python",
   "name": "python",
   "nbconvert_exporter": "python",
   "pygments_lexer": "ipython3",
   "version": "3.9.6"
  }
 },
 "nbformat": 4,
 "nbformat_minor": 5
}
